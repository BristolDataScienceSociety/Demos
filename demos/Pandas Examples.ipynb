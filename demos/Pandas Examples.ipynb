{
 "cells": [
  {
   "cell_type": "markdown",
   "id": "74a8e5ef",
   "metadata": {},
   "source": [
    "# DataFrame Processing Example with Pandas"
   ]
  },
  {
   "cell_type": "markdown",
   "id": "73d838cf",
   "metadata": {},
   "source": [
    "This code initializes a dictionary named data containing information about individuals, including their names, ages, and salaries. This serves as sample data for demonstrating data manipulation and analysis."
   ]
  },
  {
   "cell_type": "code",
   "execution_count": 1,
   "id": "3cb5390a",
   "metadata": {},
   "outputs": [
    {
     "name": "stderr",
     "output_type": "stream",
     "text": [
      "C:\\Users\\long\\anaconda3\\lib\\site-packages\\numpy\\_distributor_init.py:30: UserWarning: loaded more than 1 DLL from .libs:\n",
      "C:\\Users\\long\\anaconda3\\lib\\site-packages\\numpy\\.libs\\libopenblas.EL2C6PLE4ZYW3ECEVIV3OXXGRN2NRFM2.gfortran-win_amd64.dll\n",
      "C:\\Users\\long\\anaconda3\\lib\\site-packages\\numpy\\.libs\\libopenblas64__v0.3.21-gcc_10_3_0.dll\n",
      "  warnings.warn(\"loaded more than 1 DLL from .libs:\"\n"
     ]
    }
   ],
   "source": [
    "import numpy as np\n",
    "import pandas as pd\n",
    "import matplotlib.pyplot as plt"
   ]
  },
  {
   "cell_type": "code",
   "execution_count": 2,
   "id": "05bbc2d2",
   "metadata": {},
   "outputs": [],
   "source": [
    "data = {\n",
    "    'Name': ['Alice', 'Bob', 'Charlie', 'David', 'Eve'],\n",
    "    'Age': [25, 30, 22, 35, 28],\n",
    "    'Salary': [50000, 60000, 45000, 70000, 55000]\n",
    "}"
   ]
  },
  {
   "cell_type": "markdown",
   "id": "08dbf224",
   "metadata": {},
   "source": [
    "Here, a DataFrame named df is created using the pandas library, and it is populated with the data from the data dictionary. A DataFrame is a two-dimensional data structure that resembles a table or spreadsheet.\n",
    "\n",
    "Then the code prints the first few rows of the DataFrame df using the head() function. It provides an initial glimpse of the data to understand its structure and content."
   ]
  },
  {
   "cell_type": "code",
   "execution_count": 3,
   "id": "d4318353",
   "metadata": {},
   "outputs": [
    {
     "name": "stdout",
     "output_type": "stream",
     "text": [
      "First few rows of the DataFrame:\n",
      "      Name  Age  Salary\n",
      "0    Alice   25   50000\n",
      "1      Bob   30   60000\n",
      "2  Charlie   22   45000\n",
      "3    David   35   70000\n",
      "4      Eve   28   55000\n"
     ]
    }
   ],
   "source": [
    "df = pd.DataFrame(data)\n",
    "\n",
    "print(\"First few rows of the DataFrame:\")\n",
    "print(df.head())"
   ]
  },
  {
   "cell_type": "markdown",
   "id": "3f5c58fa",
   "metadata": {},
   "source": [
    "In this section, the code calculates the mean (average) age and mean salary from the DataFrame `df`. It uses the `mean()` function to compute these statistics for the 'Age' and 'Salary' columns, respectively."
   ]
  },
  {
   "cell_type": "code",
   "execution_count": 4,
   "id": "85cfcb65",
   "metadata": {},
   "outputs": [
    {
     "name": "stdout",
     "output_type": "stream",
     "text": [
      "Mean Age: 28.00\n",
      "Mean Salary: $56000.00\n"
     ]
    }
   ],
   "source": [
    "mean_age = df['Age'].mean()\n",
    "mean_salary = df['Salary'].mean()\n",
    "\n",
    "print(f\"Mean Age: {mean_age:.2f}\")\n",
    "print(f\"Mean Salary: ${mean_salary:.2f}\")"
   ]
  },
  {
   "cell_type": "markdown",
   "id": "5ca66617",
   "metadata": {},
   "source": [
    "This block of code filters the rows in the DataFrame `df` where the 'Age' is above the calculated mean age. It creates a new DataFrame named `above_mean_age` containing only those rows that satisfy this condition."
   ]
  },
  {
   "cell_type": "code",
   "execution_count": 5,
   "id": "45a22729",
   "metadata": {},
   "outputs": [
    {
     "name": "stdout",
     "output_type": "stream",
     "text": [
      "People with Age above Mean Age:\n",
      "    Name  Age  Salary\n",
      "1    Bob   30   60000\n",
      "3  David   35   70000\n"
     ]
    }
   ],
   "source": [
    "above_mean_age = df[df['Age'] > mean_age]\n",
    "\n",
    "print(\"People with Age above Mean Age:\")\n",
    "print(above_mean_age)"
   ]
  },
  {
   "cell_type": "markdown",
   "id": "383adc30",
   "metadata": {},
   "source": [
    "Here, the DataFrame `df` is sorted in descending order based on the 'Salary' column. The resulting sorted DataFrame is stored in the variable `sorted_df`.\n",
    "\n",
    "\n",
    "Then, the code groups the original DataFrame `df` by the 'Age' column and calculates the mean salary for each age group. The results are stored in a new DataFrame called `age_groups`. The `reset_index()` function is used to reset the index of the resulting DataFrame, before `age` is the index column."
   ]
  },
  {
   "cell_type": "code",
   "execution_count": 6,
   "id": "fd23a8ef",
   "metadata": {},
   "outputs": [
    {
     "name": "stdout",
     "output_type": "stream",
     "text": [
      "Sorted DataFrame by Salary:\n",
      "      Name  Age  Salary\n",
      "3    David   35   70000\n",
      "1      Bob   30   60000\n",
      "4      Eve   28   55000\n",
      "0    Alice   25   50000\n",
      "2  Charlie   22   45000\n",
      "Mean Salary by Age Group:\n",
      "   Age   Salary\n",
      "0   22  45000.0\n",
      "1   25  50000.0\n",
      "2   28  55000.0\n",
      "3   30  60000.0\n",
      "4   35  70000.0\n"
     ]
    }
   ],
   "source": [
    "sorted_df = df.sort_values(by='Salary', ascending=False)\n",
    "\n",
    "age_groups = df.groupby('Age')['Salary'].mean().reset_index()\n",
    "\n",
    "print(\"Sorted DataFrame by Salary:\")\n",
    "print(sorted_df)\n",
    "\n",
    "print(\"Mean Salary by Age Group:\")\n",
    "print(age_groups)"
   ]
  },
  {
   "cell_type": "markdown",
   "id": "d15b566d",
   "metadata": {},
   "source": [
    "In this section, a bar chart is created using the matplotlib library. It visualizes the mean salary for each age group from the age_groups DataFrame. The chart is displayed with appropriate labels and a title."
   ]
  },
  {
   "cell_type": "code",
   "execution_count": 7,
   "id": "c0612dc4",
   "metadata": {},
   "outputs": [
    {
     "data": {
      "image/png": "[encoded data removed]",
      "text/plain": [
       "<Figure size 432x288 with 1 Axes>"
      ]
     },
     "metadata": {
      "needs_background": "light"
     },
     "output_type": "display_data"
    }
   ],
   "source": [
    "# Plot a bar chart of age groups and mean salary\n",
    "plt.bar(age_groups['Age'], age_groups['Salary'])\n",
    "plt.xlabel('Age')\n",
    "plt.ylabel('Mean Salary')\n",
    "plt.title('Mean Salary by Age Group')\n",
    "plt.show()"
   ]
  },
  {
   "cell_type": "code",
   "execution_count": null,
   "id": "f123cae3",
   "metadata": {},
   "outputs": [],
   "source": []
  }
 ],
 "metadata": {
  "kernelspec": {
   "display_name": "Python 3 (ipykernel)",
   "language": "python",
   "name": "python3"
  },
  "language_info": {
   "codemirror_mode": {
    "name": "ipython",
    "version": 3
   },
   "file_extension": ".py",
   "mimetype": "text/x-python",
   "name": "python",
   "nbconvert_exporter": "python",
   "pygments_lexer": "ipython3",
   "version": "3.9.12"
  }
 },
 "nbformat": 4,
 "nbformat_minor": 5
}
