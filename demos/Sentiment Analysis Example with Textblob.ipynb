{
 "cells": [
  {
   "cell_type": "code",
   "execution_count": 1,
   "id": "0d2aca19",
   "metadata": {},
   "outputs": [
    {
     "name": "stderr",
     "output_type": "stream",
     "text": [
      "C:\\Users\\long\\anaconda3\\lib\\site-packages\\numpy\\_distributor_init.py:30: UserWarning: loaded more than 1 DLL from .libs:\n",
      "C:\\Users\\long\\anaconda3\\lib\\site-packages\\numpy\\.libs\\libopenblas.EL2C6PLE4ZYW3ECEVIV3OXXGRN2NRFM2.gfortran-win_amd64.dll\n",
      "C:\\Users\\long\\anaconda3\\lib\\site-packages\\numpy\\.libs\\libopenblas64__v0.3.21-gcc_10_3_0.dll\n",
      "  warnings.warn(\"loaded more than 1 DLL from .libs:\"\n"
     ]
    }
   ],
   "source": [
    "from textblob import TextBlob"
   ]
  },
  {
   "cell_type": "markdown",
   "id": "57823dae",
   "metadata": {},
   "source": [
    "# Sentiment Analysis Example with TextBlob"
   ]
  },
  {
   "cell_type": "code",
   "execution_count": 2,
   "id": "267ac078",
   "metadata": {},
   "outputs": [
    {
     "name": "stdout",
     "output_type": "stream",
     "text": [
      "Type something down\n",
      "BDSS is the best society!\n"
     ]
    }
   ],
   "source": [
    "print(\"Type something down\")\n",
    "text = input()"
   ]
  },
  {
   "cell_type": "markdown",
   "id": "ef2ef9d4",
   "metadata": {},
   "source": [
    "Here, a TextBlob object is created using the text entered by the user. TextBlob is a library for processing textual data, and it can perform various natural language processing tasks, including sentiment analysis."
   ]
  },
  {
   "cell_type": "code",
   "execution_count": 3,
   "id": "e1b00898",
   "metadata": {},
   "outputs": [],
   "source": [
    "blob = TextBlob(text)"
   ]
  },
  {
   "cell_type": "markdown",
   "id": "e9d65263",
   "metadata": {},
   "source": [
    "This block of code calculates the sentiment polarity of the entered text using the TextBlob object. The sentiment polarity ranges from -1 (most negative) to 1 (most positive), with 0 indicating a neutral sentiment. The result is stored in the variable `polarity`. The calculated sentiment polarity is printed to the console, providing an assessment of the sentiment of the entered text."
   ]
  },
  {
   "cell_type": "code",
   "execution_count": 4,
   "id": "5564a6e3",
   "metadata": {},
   "outputs": [
    {
     "name": "stdout",
     "output_type": "stream",
     "text": [
      "Sentiment Polarity: 1.00\n"
     ]
    }
   ],
   "source": [
    "polarity = blob.sentiment.polarity\n",
    "print(f'Sentiment Polarity: {polarity:.2f}')"
   ]
  },
  {
   "cell_type": "markdown",
   "id": "c316a077",
   "metadata": {},
   "source": [
    "1.00 sentiment polarity means our text is the most positive one! BDSS is the best society!"
   ]
  }
 ],
 "metadata": {
  "kernelspec": {
   "display_name": "Python 3 (ipykernel)",
   "language": "python",
   "name": "python3"
  },
  "language_info": {
   "codemirror_mode": {
    "name": "ipython",
    "version": 3
   },
   "file_extension": ".py",
   "mimetype": "text/x-python",
   "name": "python",
   "nbconvert_exporter": "python",
   "pygments_lexer": "ipython3",
   "version": "3.9.12"
  }
 },
 "nbformat": 4,
 "nbformat_minor": 5
}
