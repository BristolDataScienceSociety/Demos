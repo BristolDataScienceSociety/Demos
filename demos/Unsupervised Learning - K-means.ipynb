{
 "cells": [
  {
   "cell_type": "code",
   "execution_count": 1,
   "id": "e7dd2942",
   "metadata": {},
   "outputs": [
    {
     "name": "stderr",
     "output_type": "stream",
     "text": [
      "C:\\Users\\long\\anaconda3\\lib\\site-packages\\numpy\\_distributor_init.py:30: UserWarning: loaded more than 1 DLL from .libs:\n",
      "C:\\Users\\long\\anaconda3\\lib\\site-packages\\numpy\\.libs\\libopenblas.EL2C6PLE4ZYW3ECEVIV3OXXGRN2NRFM2.gfortran-win_amd64.dll\n",
      "C:\\Users\\long\\anaconda3\\lib\\site-packages\\numpy\\.libs\\libopenblas64__v0.3.21-gcc_10_3_0.dll\n",
      "  warnings.warn(\"loaded more than 1 DLL from .libs:\"\n"
     ]
    }
   ],
   "source": [
    "import pandas as pd\n",
    "import numpy as np\n",
    "import matplotlib.pyplot as plt\n",
    "from random import choice"
   ]
  },
  {
   "cell_type": "markdown",
   "id": "1574e4c1",
   "metadata": {},
   "source": [
    "# Unsupervised Learning - K-means"
   ]
  },
  {
   "cell_type": "markdown",
   "id": "d6af7b29",
   "metadata": {},
   "source": [
    "Now we move to the unsupervised setting, that is, where we no longer have labels for our data. In the previous section we had our data as X, which had corresponding labels Y, that we used in our algorithm to aid convergence. This is reasonable in a lot of cases, but it is very common that we don't know these labels, e.g. we have taken certain measurements of animals that have 2 possible species, but are visually indistinguable. Suppose they do differ however in height and width, which we can measure. It would be desirable to classify each datapoint into one of the two species classes, but unlike last time, we don't have the labels to train our model."
   ]
  },
  {
   "cell_type": "markdown",
   "id": "2c362649",
   "metadata": {},
   "source": [
    "So, we turn to k-means, an unsupervised method that aims to divide our data into k 'clusters'. In our case k=2. Let's generate some new data."
   ]
  },
  {
   "cell_type": "code",
   "execution_count": 2,
   "id": "82ee80b8",
   "metadata": {},
   "outputs": [
    {
     "data": {
      "text/plain": [
       "<function matplotlib.pyplot.show(close=None, block=None)>"
      ]
     },
     "execution_count": 2,
     "metadata": {},
     "output_type": "execute_result"
    },
    {
     "data": {
      "image/png": "[encoded data removed]",
      "text/plain": [
       "<Figure size 432x288 with 1 Axes>"
      ]
     },
     "metadata": {
      "needs_background": "light"
     },
     "output_type": "display_data"
    }
   ],
   "source": [
    "xsA=np.random.normal(2, 0.5, 20)\n",
    "ysA=np.random.normal(3, 1, 20)\n",
    "\n",
    "xsB=np.random.normal(4, 0.8, 20)\n",
    "ysB=np.random.normal(3, 0.5, 20)\n",
    "\n",
    "plt.scatter(xsA, ysA)\n",
    "plt.scatter(xsB, ysB)\n",
    "\n",
    "plt.show"
   ]
  },
  {
   "cell_type": "markdown",
   "id": "47312966",
   "metadata": {},
   "source": [
    "We know these are two separate sets of data, as well as their mean and variance, because we generated them. What if we didn't know these things and needed to separate the data?"
   ]
  },
  {
   "cell_type": "code",
   "execution_count": 3,
   "id": "be7e6ac3",
   "metadata": {},
   "outputs": [
    {
     "data": {
      "text/plain": [
       "<function matplotlib.pyplot.show(close=None, block=None)>"
      ]
     },
     "execution_count": 3,
     "metadata": {},
     "output_type": "execute_result"
    },
    {
     "data": {
      "image/png": "[encoded data removed]",
      "text/plain": [
       "<Figure size 432x288 with 1 Axes>"
      ]
     },
     "metadata": {
      "needs_background": "light"
     },
     "output_type": "display_data"
    }
   ],
   "source": [
    "xs=np.concatenate((xsA,xsB))\n",
    "ys=np.concatenate((ysA,ysB))\n",
    "\n",
    "plt.scatter(xs,ys)\n",
    "plt.show"
   ]
  },
  {
   "cell_type": "markdown",
   "id": "2e12f45e",
   "metadata": {},
   "source": [
    "One way to go about it is to put them in two \"clusters\". For our algorithm, we first need to randomly pick two centers for our clusters."
   ]
  },
  {
   "cell_type": "code",
   "execution_count": 4,
   "id": "c54475a5",
   "metadata": {},
   "outputs": [],
   "source": [
    "x1=choice(xsA)\n",
    "y1=choice(ysA)\n",
    "\n",
    "x2=choice(xsB)\n",
    "y2=choice(ysB)"
   ]
  },
  {
   "cell_type": "markdown",
   "id": "1cf5b360",
   "metadata": {},
   "source": [
    "Then, we need to check for each point which cluster it is closer to."
   ]
  },
  {
   "cell_type": "code",
   "execution_count": 5,
   "id": "a5d23983",
   "metadata": {},
   "outputs": [
    {
     "data": {
      "text/plain": [
       "(array([1.98636077, 1.69783781, 2.36213678, 1.44499141, 0.7015843 ,\n",
       "        3.36410275, 2.44739048, 1.58092872, 2.70186015, 2.17018118,\n",
       "        2.10210034, 2.8395448 , 4.0995211 , 2.98861104, 3.16664618]),\n",
       " array([2.33558845, 2.65213803, 2.21533236, 1.86130598, 1.92730819,\n",
       "        2.30612366, 1.50142101, 2.31435309, 1.71280874, 2.29168105,\n",
       "        2.64305229, 2.35005731, 1.74134807, 2.47472156, 2.24470102]),\n",
       " array([2.16942339, 1.48459985, 0.81249111, 1.01296373, 1.35068603,\n",
       "        2.05810406, 1.14064736, 2.06415133, 4.03368121, 4.64680181,\n",
       "        4.70194595, 4.30455596, 3.94342079, 3.58411952, 3.55957591,\n",
       "        4.84991121, 4.58775356, 4.6251713 , 3.90228021, 3.61775359,\n",
       "        4.75481624, 6.23536324, 3.73058962, 3.89542158, 3.39183954]),\n",
       " array([2.93592079, 3.82972237, 3.66036955, 4.44478518, 2.92350041,\n",
       "        2.79182791, 3.30178454, 3.95847939, 2.79459511, 3.05306512,\n",
       "        2.90131701, 3.9690238 , 2.27670019, 2.81984591, 3.37931892,\n",
       "        3.06911023, 2.45368501, 3.58881108, 3.49848719, 3.18871984,\n",
       "        2.93101271, 3.40419617, 2.55690093, 3.38810115, 2.72909018]))"
      ]
     },
     "execution_count": 5,
     "metadata": {},
     "output_type": "execute_result"
    },
    {
     "data": {
      "image/png": "[encoded data removed]",
      "text/plain": [
       "<Figure size 432x288 with 1 Axes>"
      ]
     },
     "metadata": {
      "needs_background": "light"
     },
     "output_type": "display_data"
    }
   ],
   "source": [
    "import math\n",
    "\n",
    "def distance(x1,y1,x2,y2):\n",
    "    return math.sqrt((x1-x2)**2+(y1-y2)**2)\n",
    "\n",
    "def findclusters(xs,ys,x1,y1,x2,y2):\n",
    "    Axs=np.array([])\n",
    "    Ays=np.array([])\n",
    "    Bxs=np.array([])\n",
    "    Bys=np.array([])\n",
    "\n",
    "    for i in range(len(xs)):\n",
    "        if distance(xs[i],ys[i],x1,y1)<distance(xs[i],ys[i],x2,y2):\n",
    "            Axs=np.append(Axs,xs[i])\n",
    "            Ays=np.append(Ays,ys[i])\n",
    "        else:\n",
    "            Bxs=np.append(Bxs,xs[i])\n",
    "            Bys=np.append(Bys,ys[i])\n",
    "\n",
    "    plt.scatter(Axs,Ays)\n",
    "    plt.scatter(Bxs,Bys)\n",
    "    plt.show\n",
    "    return(Axs,Ays,Bxs,Bys)\n",
    "    \n",
    "findclusters(xs,ys,x1,y1,x2,y2)"
   ]
  },
  {
   "cell_type": "markdown",
   "id": "c6da0e61",
   "metadata": {},
   "source": [
    "Once we've done this for all points we need to recalculate the cluster centers. We do that by taking the average x and y coordinates of each of the two lists"
   ]
  },
  {
   "cell_type": "code",
   "execution_count": 6,
   "id": "91f084ea",
   "metadata": {},
   "outputs": [
    {
     "name": "stdout",
     "output_type": "stream",
     "text": [
      "(3.002796647998237, 2.8105077867211814)\n"
     ]
    }
   ],
   "source": [
    "def average(xs,ys):\n",
    "    x=sum(xs)/len(xs)\n",
    "    y=sum(ys)/len(ys)\n",
    "    return x,y\n",
    "print(average(xs,ys))"
   ]
  },
  {
   "cell_type": "markdown",
   "id": "7dbd7e34",
   "metadata": {},
   "source": [
    "We notice the as we run this, it gives better and better results. Congrats! You now know how to do a fundamental data processing algorithm!"
   ]
  },
  {
   "cell_type": "code",
   "execution_count": 7,
   "id": "c29cd06f",
   "metadata": {},
   "outputs": [],
   "source": [
    "def kmeans(i,xs,ys,x1,y1,x2,y2):\n",
    "    for j in range(i):\n",
    "        Axs,Ays,Bxs,Bys=findclusters(xs,ys,x1,y1,x2,y2)\n",
    "        x1,y1=average(Axs,Ays)\n",
    "        x2,y2=average(Bxs,Bys)"
   ]
  },
  {
   "cell_type": "code",
   "execution_count": 8,
   "id": "e73f5e3a",
   "metadata": {},
   "outputs": [
    {
     "data": {
      "image/png": "[encoded data removed]",
      "text/plain": [
       "<Figure size 432x288 with 1 Axes>"
      ]
     },
     "metadata": {
      "needs_background": "light"
     },
     "output_type": "display_data"
    }
   ],
   "source": [
    "i=100\n",
    "kmeans(i,xs,ys,x1,y1,x2,y2)"
   ]
  },
  {
   "cell_type": "code",
   "execution_count": null,
   "id": "c4b5ff3d",
   "metadata": {},
   "outputs": [],
   "source": []
  }
 ],
 "metadata": {
  "kernelspec": {
   "display_name": "Python 3 (ipykernel)",
   "language": "python",
   "name": "python3"
  },
  "language_info": {
   "codemirror_mode": {
    "name": "ipython",
    "version": 3
   },
   "file_extension": ".py",
   "mimetype": "text/x-python",
   "name": "python",
   "nbconvert_exporter": "python",
   "pygments_lexer": "ipython3",
   "version": "3.9.12"
  }
 },
 "nbformat": 4,
 "nbformat_minor": 5
}
