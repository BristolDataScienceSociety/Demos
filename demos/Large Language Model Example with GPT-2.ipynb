{
 "cells": [
  {
   "cell_type": "code",
   "execution_count": 1,
   "id": "ed3e877c",
   "metadata": {},
   "outputs": [
    {
     "name": "stderr",
     "output_type": "stream",
     "text": [
      "C:\\Users\\long\\anaconda3\\lib\\site-packages\\numpy\\_distributor_init.py:30: UserWarning: loaded more than 1 DLL from .libs:\n",
      "C:\\Users\\long\\anaconda3\\lib\\site-packages\\numpy\\.libs\\libopenblas.EL2C6PLE4ZYW3ECEVIV3OXXGRN2NRFM2.gfortran-win_amd64.dll\n",
      "C:\\Users\\long\\anaconda3\\lib\\site-packages\\numpy\\.libs\\libopenblas64__v0.3.21-gcc_10_3_0.dll\n",
      "  warnings.warn(\"loaded more than 1 DLL from .libs:\"\n"
     ]
    }
   ],
   "source": [
    "from transformers import pipeline\n",
    "import plotly.express as px\n",
    "import ipywidgets as widgets\n",
    "from IPython.display import display, clear_output"
   ]
  },
  {
   "cell_type": "markdown",
   "id": "388c0d03",
   "metadata": {},
   "source": [
    "#  Large Language Model Example with GPT-2"
   ]
  },
  {
   "cell_type": "code",
   "execution_count": 2,
   "id": "6a136963",
   "metadata": {},
   "outputs": [
    {
     "name": "stdout",
     "output_type": "stream",
     "text": [
      "Type a prompt\n",
      "Once upon of time\n"
     ]
    }
   ],
   "source": [
    "print(\"Type a prompt\")\n",
    "prompt = input()"
   ]
  },
  {
   "cell_type": "markdown",
   "id": "dc767f93",
   "metadata": {},
   "source": [
    "In this section, the code imports the necessary components from the Hugging Face Transformers library to perform text generation. It initializes a text generation pipeline using the GPT-2 model and sets a random seed for reproducibility. Then using the variable `prompt` above, GPT-2 will generate texts based on it."
   ]
  },
  {
   "cell_type": "code",
   "execution_count": 3,
   "id": "c125b734",
   "metadata": {},
   "outputs": [
    {
     "name": "stderr",
     "output_type": "stream",
     "text": [
      "Setting `pad_token_id` to `eos_token_id`:50256 for open-end generation.\n"
     ]
    }
   ],
   "source": [
    "from transformers import pipeline, set_seed\n",
    "\n",
    "generator = pipeline(\"text-generation\", model=\"gpt2\")\n",
    "set_seed(42)\n",
    "\n",
    "prompt = \"Once upon a time\"\n",
    "generated_text = generator(prompt, max_length=500, num_return_sequences=1)"
   ]
  },
  {
   "cell_type": "markdown",
   "id": "8078e0b3",
   "metadata": {},
   "source": [
    "The generated text is printed to the console. This text is produced by the GPT-2 model based on the provided prompt and is displayed for the user to see."
   ]
  },
  {
   "cell_type": "code",
   "execution_count": 4,
   "id": "bf655256",
   "metadata": {},
   "outputs": [
    {
     "name": "stdout",
     "output_type": "stream",
     "text": [
      "Once upon a time, there was a certain person in this world who believed, that if one wished to be a man it would be better to go to hell than go to heaven, and who held that belief and kept it. His life as a soldier in his army and being one's own fellow-citizens would not be ruined by the desire of hell.\n",
      "\n",
      "But his condition before his death was more intolerable than the other. A day was brought about by a sickness, and one of the soldiers told their commander how his soldiers had been slaughtered. He was then obliged to give his own name, or at least to call all of them names, and they were all murdered. This was a kind of torture that was known as \"the blood sacrifice.\"\n",
      "\n",
      "When he was dead and his army was made free, they went along with him and, to get to God, gave him five heads. His first head was that of the woman he loved, his second one was the head of the woman who bore him the head of his lover. Some believed that he could kill his lover, but they said nothing.\n",
      "\n",
      "Then a woman was found, who confessed to him, that she had given a husband to a man from Hell after she had killed a man with a single bullet. She went along with these confessions, and then after the slaughter of the soldier she said \"I will destroy him, but he will escape.\" He became a new one after her death, by means of a sacrifice to the God-fearing god, and then he was called to heaven and died.\n",
      "\n",
      "Those who were in communion with Jesus are not condemned to be converted to the Spirit and be made free from all sin except the one. Thus God the Father, that He may have mercy upon all things, was made free from the human heart because of His merciful gift. No one is condemned to suffer for the sins of the universe, but every creature becomes free because of the will of God. He took all the dead as its servants, and that was the will of the Father.\n",
      "\n",
      "And then it occurred to him that that which God has made human as the Lord's image was not created to be given and not given to be used for human ends, but for the same purposes. His design was to bring humanity back from the dead, that they might be able to bear human needs. He placed these things of the human heart on the level of one another as one body\n"
     ]
    }
   ],
   "source": [
    "print(generated_text[0]['generated_text'])"
   ]
  },
  {
   "cell_type": "code",
   "execution_count": null,
   "id": "1c08c0ff",
   "metadata": {},
   "outputs": [],
   "source": []
  }
 ],
 "metadata": {
  "kernelspec": {
   "display_name": "Python 3 (ipykernel)",
   "language": "python",
   "name": "python3"
  },
  "language_info": {
   "codemirror_mode": {
    "name": "ipython",
    "version": 3
   },
   "file_extension": ".py",
   "mimetype": "text/x-python",
   "name": "python",
   "nbconvert_exporter": "python",
   "pygments_lexer": "ipython3",
   "version": "3.9.12"
  }
 },
 "nbformat": 4,
 "nbformat_minor": 5
}
